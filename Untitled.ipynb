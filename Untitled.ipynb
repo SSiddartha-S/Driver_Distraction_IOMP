{
 "cells": [
  {
   "cell_type": "code",
   "execution_count": 2,
   "id": "b0c261a6-8671-4203-88b4-b6e17fa0da32",
   "metadata": {},
   "outputs": [
    {
     "name": "stdout",
     "output_type": "stream",
     "text": [
      "CUDA Available: False\n",
      "\n",
      "--- No NVIDIA GPU available. Training will run on CPU. ---\n"
     ]
    }
   ],
   "source": [
    "import torch\n",
    "\n",
    "gpu_available = torch.cuda.is_available()\n",
    "print(f\"CUDA Available: {gpu_available}\")\n",
    "\n",
    "if gpu_available:\n",
    "    print(f\"GPU Name: {torch.cuda.get_device_name(0)}\")\n",
    "    print(\"\\n--- Local GPU is ready for accelerated training! ---\")\n",
    "else:\n",
    "    print(\"\\n--- No NVIDIA GPU available. Training will run on CPU. ---\")"
   ]
  },
  {
   "cell_type": "code",
   "execution_count": null,
   "id": "8200cb61-5cfa-44b5-b46d-0d8fa5c91ae8",
   "metadata": {},
   "outputs": [],
   "source": []
  }
 ],
 "metadata": {
  "kernelspec": {
   "display_name": "Python 3 (ipykernel)",
   "language": "python",
   "name": "python3"
  },
  "language_info": {
   "codemirror_mode": {
    "name": "ipython",
    "version": 3
   },
   "file_extension": ".py",
   "mimetype": "text/x-python",
   "name": "python",
   "nbconvert_exporter": "python",
   "pygments_lexer": "ipython3",
   "version": "3.10.9"
  }
 },
 "nbformat": 4,
 "nbformat_minor": 5
}
